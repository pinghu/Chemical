{
 "cells": [
  {
   "cell_type": "code",
   "execution_count": 1,
   "id": "1d63ac78",
   "metadata": {},
   "outputs": [],
   "source": [
    "import pandas as pd\n",
    "\n",
    "def convert_excel_to_tab_delimited(input_excel_file, output_txt_file):\n",
    "    # Read the Excel sheet into a pandas DataFrame\n",
    "    df = pd.read_excel(input_excel_file)\n",
    "\n",
    "    # Get the column names and join them with tab delimiters to create the header row\n",
    "    header_row = \"\\t\".join(df.columns)\n",
    "\n",
    "    # Create an empty list to store the rows as tab-delimited strings\n",
    "    tab_delimited_rows = []\n",
    "\n",
    "    # Iterate through each row in the DataFrame\n",
    "    for index, row in df.iterrows():\n",
    "        # Concatenate the cells in the row with tab delimiters\n",
    "        row_content = \"\\t\".join(str(cell).replace('\\n', ' ') for cell in row)\n",
    "        # Append the row content to the list\n",
    "        tab_delimited_rows.append(row_content)\n",
    "\n",
    "    # Join the header row and rows with newline characters to create the final content\n",
    "    final_content = header_row + \"\\n\" + \"\\n\".join(tab_delimited_rows)\n",
    "\n",
    "    # Write the content to the output text file\n",
    "    with open(output_txt_file, 'w', encoding='utf-8') as file:\n",
    "        file.write(final_content)\n",
    "\n",
    "#if __name__ == \"__main__\":\n",
    "#    input_excel_file = \"input.xlsx\"  # Replace with the actual path to your input Excel file\n",
    "#    output_txt_file = \"output.txt\"   # Replace with the desired path for the output text file\n",
    "\n",
    "#    convert_excel_to_tab_delimited(input_excel_file, output_txt_file)\n"
   ]
  },
  {
   "cell_type": "code",
   "execution_count": 5,
   "id": "198106f0",
   "metadata": {},
   "outputs": [],
   "source": [
    "input_excel_file = \"FalconBeautyPRMs.xlsx\"  # Replace with the actual path to your input Excel file\n",
    "output_txt_file = \"FalconBeautyPRMs.txt\"   # Replace with the desired path for the output text file\n",
    "\n",
    "convert_excel_to_tab_delimited(input_excel_file, output_txt_file)\n"
   ]
  },
  {
   "cell_type": "code",
   "execution_count": null,
   "id": "0463639e",
   "metadata": {},
   "outputs": [],
   "source": []
  }
 ],
 "metadata": {
  "kernelspec": {
   "display_name": "Python 3 (ipykernel)",
   "language": "python",
   "name": "python3"
  },
  "language_info": {
   "codemirror_mode": {
    "name": "ipython",
    "version": 3
   },
   "file_extension": ".py",
   "mimetype": "text/x-python",
   "name": "python",
   "nbconvert_exporter": "python",
   "pygments_lexer": "ipython3",
   "version": "3.9.12"
  }
 },
 "nbformat": 4,
 "nbformat_minor": 5
}
